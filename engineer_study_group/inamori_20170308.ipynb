{
 "cells": [
  {
   "cell_type": "markdown",
   "metadata": {},
   "source": [
    "# 統計モデルのあてはめと拡張について\n",
    "\n",
    "# 例:線形モデルの拡張 lm→glm→glmm→hbm\n",
    "<img src=\"updating_models.PNG\">\n",
    "\n",
    "参考:http://hosho.ees.hokudai.ac.jp/~kubo/stat/2014/nicoFeb/kubo2014nicoFeb.pdf のp7\n",
    "\n",
    "\n",
    "# すべてのデータの予測は直線回帰で十分？\n",
    "\n",
    "* 直線回帰の前提\n",
    "    * サンプルは正規分布に従う\n",
    "    * 本当か？→可視化\n",
    "\n",
    "# glm\n",
    "統計モデルの部品である確率分布などを選んでモデルを作成\n",
    "\n",
    "# glmm\n",
    "上手く説明できないデータ\n",
    "→個人差・場所差がありそう = すべてのデータは均一のモデル+ばらつきがありそう\n",
    "→個人差や個体差を表すパラメータをモデルにいれなきゃ\n",
    "\n",
    "# 階層ベイズ:\n",
    "個体差を表す分布を推定\n",
    "\n",
    "# あてはめの指標\n",
    "* 適合度のみ→予測には不十分(例：データ数=モデル数)\n",
    "* 情報量基準(AIC,BIC,AICC等ベイズモデルならWAIC等)\n",
    "    → 悪くはないけど盲目的に信じるのは危険(時系列モデルの例)\n",
    "* モデルのメカニズムと前提とを考える\n",
    "    → 結局これが大事\n",
    "    → でも、曖昧に感じる。なんかうまいやり方はないんですかね？？？\n",
    "\n",
    "\n",
    "# 寄り道\n",
    "時系列データ(前の自分のデータが次の自分のデータを決定)はまた別の話になります。\n",
    "前の自分のデータが次の自分のデータを決定\n",
    "→説明変数が決定変数とかなり似ている\n",
    "→いろいろ問題が生まれる(ほげほげ)\n",
    "\n",
    "多分\n",
    "(自己相関の確認→ar or ma→)arima→arma+gauch)→[状態空間モデル系]dlm→階層ベイズ(carモデルみたいに空間統計を意識したやつ)?\n",
    "                                              └→[他の計量経済学系]()\n",
    "                                     ↑ここまでは割とスタンダードな気がする\n",
    "手法の前提を確認したり、残差検定をしたりするべき。\n",
    "参考：http://hosho.ees.hokudai.ac.jp/~kubo/stat/2014/nicoFeb/kubo2014nicoFeb.pdf\n",
    "\n",
    "# まとめ\n",
    "データの確認が大事\n",
    "→データに合わせたモデルを作ろう\n"
   ]
  },
  {
   "cell_type": "code",
   "execution_count": null,
   "metadata": {
    "collapsed": true
   },
   "outputs": [],
   "source": []
  }
 ],
 "metadata": {
  "anaconda-cloud": {},
  "kernelspec": {
   "display_name": "R",
   "language": "R",
   "name": "ir"
  },
  "language_info": {
   "codemirror_mode": "r",
   "file_extension": ".r",
   "mimetype": "text/x-r-source",
   "name": "R",
   "pygments_lexer": "r",
   "version": "3.3.2"
  }
 },
 "nbformat": 4,
 "nbformat_minor": 1
}
