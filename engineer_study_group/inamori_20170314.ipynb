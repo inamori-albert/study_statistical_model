{
 "cells": [
  {
   "cell_type": "markdown",
   "metadata": {},
   "source": [
    "# Pythonで解く線形計画問題"
   ]
  },
  {
   "cell_type": "markdown",
   "metadata": {},
   "source": [
    "# 最適化問題の分類"
   ]
  },
  {
   "cell_type": "markdown",
   "metadata": {
    "collapsed": true
   },
   "source": [
    "# 最適化手法の分類"
   ]
  },
  {
   "cell_type": "markdown",
   "metadata": {},
   "source": [
    "# 今回は線形計画問題\n",
    "# 線形性について"
   ]
  },
  {
   "cell_type": "markdown",
   "metadata": {},
   "source": [
    "# 典型的な問題について\n"
   ]
  },
  {
   "cell_type": "markdown",
   "metadata": {},
   "source": [
    "# 問題を緩和する方法"
   ]
  },
  {
   "cell_type": "markdown",
   "metadata": {},
   "source": [
    "# pulpで解くには"
   ]
  },
  {
   "cell_type": "markdown",
   "metadata": {},
   "source": [
    "# install方法\n",
    "> sudo pip install pulp"
   ]
  },
  {
   "cell_type": "markdown",
   "metadata": {},
   "source": [
    "# 例1 : 簡単な例\n",
    "$$\n",
    "Minimize: \\\\\n",
    "　f1 \\left( a, b \\right) = a + b \\\\\n",
    "$$\n",
    "$$\n",
    "Subject to \\ : \\\\\n",
    "0 <= a \\\\\n",
    "0.1<= b \\\\\n",
    "a + b = 0.5\n",
    "$$"
   ]
  },
  {
   "cell_type": "code",
   "execution_count": null,
   "metadata": {
    "collapsed": false
   },
   "outputs": [],
   "source": [
    "import pulp\n",
    "\n",
    "# 問題オブジェクト(目的関数)の作成\n",
    "problem = pulp.LpProblem('f1',pulp.LpMinimize)\n",
    "\n",
    "# 変数の設定\n",
    "a = pulp.LpVariable('a',0,1)\n",
    "b = pulp.LpVariable('b',0,1)\n",
    "\n",
    "# 目的関数の設定\n",
    "problem += a + b\n",
    "\n",
    "# 制約条件の設定\n",
    "problem += a >= 0\n",
    "problem += b >= 0.1\n",
    "problem += a + 2 * b == 0.5\n",
    "\n",
    "# 問題表示\n",
    "print(problem)\n",
    "\n",
    "# ソルバー実行\n",
    "status = problem.solve()\n",
    "\n",
    "# 答え表示\n",
    "print(pulp.LpStatus[status])\n",
    "print('a : ' + str(a.value()))\n",
    "print('b : ' + str(b.value()))\n",
    "print(problem)"
   ]
  },
  {
   "cell_type": "markdown",
   "metadata": {},
   "source": [
    "# 例2 数独"
   ]
  },
  {
   "cell_type": "markdown",
   "metadata": {},
   "source": [
    "# pulpのデメリット・適用外範囲\n",
    "* 問題サイズと計算時間のグラフでも作る？"
   ]
  },
  {
   "cell_type": "markdown",
   "metadata": {},
   "source": [
    "# 他のソルバーについて"
   ]
  },
  {
   "cell_type": "markdown",
   "metadata": {},
   "source": [
    "# その他のライブラリと問題"
   ]
  }
 ],
 "metadata": {
  "anaconda-cloud": {},
  "kernelspec": {
   "display_name": "Python [conda root]",
   "language": "python",
   "name": "conda-root-py"
  },
  "language_info": {
   "codemirror_mode": {
    "name": "ipython",
    "version": 3
   },
   "file_extension": ".py",
   "mimetype": "text/x-python",
   "name": "python",
   "nbconvert_exporter": "python",
   "pygments_lexer": "ipython3",
   "version": "3.5.2"
  }
 },
 "nbformat": 4,
 "nbformat_minor": 0
}
