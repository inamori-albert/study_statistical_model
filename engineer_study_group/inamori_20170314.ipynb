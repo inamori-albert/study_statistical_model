{
 "cells": [
  {
   "cell_type": "markdown",
   "metadata": {},
   "source": [
    "# Pythonで解く線形計画問題(+混合整数計画問題)"
   ]
  },
  {
   "cell_type": "markdown",
   "metadata": {},
   "source": [
    "# 最適化問題の分類"
   ]
  },
  {
   "cell_type": "markdown",
   "metadata": {},
   "source": [
    "# 今回は線形計画問題が中心\n",
    "# 線形性について\n",
    "# ソルバーを利用した解法について"
   ]
  },
  {
   "cell_type": "markdown",
   "metadata": {},
   "source": [
    "# 問題を緩和する方法（今回はいらないか）"
   ]
  },
  {
   "cell_type": "markdown",
   "metadata": {},
   "source": [
    "# pulpとは"
   ]
  },
  {
   "cell_type": "markdown",
   "metadata": {},
   "source": [
    "# install方法\n",
    "> sudo pip install pulp"
   ]
  },
  {
   "cell_type": "markdown",
   "metadata": {},
   "source": [
    "# 例1 : 簡単な例\n",
    "$$\n",
    "Minimize: \\\\\n",
    "　f1 \\left( a, b \\right) = a + b \\\\\n",
    "$$\n",
    "$$\n",
    "Subject to \\ : \\\\\n",
    "0 <= a \\\\\n",
    "0.1<= b \\\\\n",
    "a + b = 0.5\n",
    "$$"
   ]
  },
  {
   "cell_type": "code",
   "execution_count": null,
   "metadata": {
    "collapsed": false
   },
   "outputs": [],
   "source": [
    "import pulp\n",
    "\n",
    "# 問題オブジェクト(目的関数)の作成\n",
    "problem = pulp.LpProblem('f1',pulp.LpMinimize)\n",
    "\n",
    "# 変数の設定\n",
    "a = pulp.LpVariable('a',0,1)\n",
    "b = pulp.LpVariable('b',0,1)\n",
    "\n",
    "# 目的関数の設定\n",
    "problem += a + b\n",
    "\n",
    "# 制約条件の設定\n",
    "problem += a >= 0\n",
    "problem += b >= 0.1\n",
    "problem += a + 2 * b == 0.5\n",
    "\n",
    "# 問題表示\n",
    "print(problem)\n",
    "\n",
    "# ソルバー実行\n",
    "status = problem.solve()\n",
    "\n",
    "# 答え表示\n",
    "print(pulp.LpStatus[status])\n",
    "print('a : ' + str(a.value()))\n",
    "print('b : ' + str(b.value()))\n",
    "print(problem)"
   ]
  },
  {
   "cell_type": "markdown",
   "metadata": {},
   "source": [
    "# 例2 輸送最適化問題\n",
    "* 倉庫群から工場群へ部品を搬送したい。輸送費が最小となる計画を求めたい。\n",
    "    * 2つの工場$A_1$,$A_2$で製品を生産\n",
    "    * 3つの取引先$B_1$,$B_2$,$B_3$に納入\n",
    "    * 輸送コストを最小にしたい\n",
    "\n",
    "\n",
    "* 各工場の生産量\n",
    "\n",
    "|$A_1$|$A_2$|\n",
    "|-----|-----|\n",
    "|90|80|\n",
    "\n",
    "* 各取引先の注文量\n",
    "\n",
    "|$B_1$|$B_2$|$B_3$|\n",
    "|-----|-----|-----|\n",
    "|70|40|60|\n",
    "\n",
    "* 輸送コスト\n",
    "\n",
    "||$B_1$|$B_2$|$B_3$|\n",
    "|-----|-----|-----|-----|\n",
    "|$A_1$| 4| 7|12|\n",
    "|$A_2$|11| 6| 3|\n",
    "\n",
    "http://qiita.com/Tsutomu-KKE@github/items/070ca9cb37c6b2b492f0"
   ]
  },
  {
   "cell_type": "markdown",
   "metadata": {
    "collapsed": true
   },
   "source": [
    "## 式にしてみる\n",
    "* 変数の設定\n",
    "\n",
    "工場$A_i$から取引先$B_j$への輸送量:$x_{ij}$\n",
    "\n",
    "* 目的関数の設定\n",
    "\n",
    "$Minimize$ : $f \\left( x \\right) = 4x_{11} + 7x_{12} + 12x_{13} + 11x_{21} + 6x_{22} + 3x_{23}$\n",
    "\n",
    "* 工場での生産量に関する条件\n",
    "\n",
    "$x_{11} + x_{12} + x_{13} <= 90$,\n",
    "$x_{21} + x_{22} + x_{23} <= 80$\n",
    "\n",
    "* 取引先への注文量に関する条件\n",
    "\n",
    "$x_{11} + x_{21} = 70$,\n",
    "$x_{12} + x_{22} = 40$,\n",
    "$x_{13} + x_{23} = 60$\n",
    "\n",
    "* 輸送量に関する非負条件\n",
    "\n",
    "$x_{ij} >= 0$"
   ]
  },
  {
   "cell_type": "code",
   "execution_count": null,
   "metadata": {
    "collapsed": true
   },
   "outputs": [],
   "source": [
    "import pulp\n",
    "\n",
    "# 問題オブジェクト(目的関数)の作成\n",
    "problem = pulp.LpProblem('f2',pulp.LpMinimize)\n",
    "\n",
    "# 変数の設定\n",
    "a = pulp.LpVariable('a',0,1)\n",
    "b = pulp.LpVariable('b',0,1)\n",
    "\n",
    "# 目的関数の設定\n",
    "problem += a + b\n",
    "\n",
    "# 制約条件の設定\n",
    "problem += a >= 0\n",
    "problem += b >= 0.1\n",
    "problem += a + 2 * b == 0.5\n",
    "\n",
    "# 問題表示\n",
    "print(problem)\n",
    "\n",
    "# ソルバー実行\n",
    "status = problem.solve()\n",
    "\n",
    "# 答え表示\n",
    "print(pulp.LpStatus[status])\n",
    "print('a : ' + str(a.value()))\n",
    "print('b : ' + str(b.value()))\n",
    "print(problem)"
   ]
  },
  {
   "cell_type": "code",
   "execution_count": null,
   "metadata": {
    "collapsed": true
   },
   "outputs": [],
   "source": [
    "#例3 数独"
   ]
  },
  {
   "cell_type": "markdown",
   "metadata": {},
   "source": [
    "# pulpのデメリット・適用外範囲\n",
    "* 問題サイズと計算時間のグラフでも作る？"
   ]
  },
  {
   "cell_type": "code",
   "execution_count": null,
   "metadata": {
    "collapsed": true
   },
   "outputs": [],
   "source": [
    "# 混合整数計画問題について\n",
    "ソルバー使うよー。\n",
    "gurobiにお布施する？NEOSサーバ使う？"
   ]
  },
  {
   "cell_type": "markdown",
   "metadata": {},
   "source": [
    "# その他のライブラリと問題"
   ]
  }
 ],
 "metadata": {
  "anaconda-cloud": {},
  "kernelspec": {
   "display_name": "Python [conda root]",
   "language": "python",
   "name": "conda-root-py"
  },
  "language_info": {
   "codemirror_mode": {
    "name": "ipython",
    "version": 3
   },
   "file_extension": ".py",
   "mimetype": "text/x-python",
   "name": "python",
   "nbconvert_exporter": "python",
   "pygments_lexer": "ipython3",
   "version": "3.5.2"
  }
 },
 "nbformat": 4,
 "nbformat_minor": 0
}
